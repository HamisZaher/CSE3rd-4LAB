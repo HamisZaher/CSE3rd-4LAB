{
  "nbformat": 4,
  "nbformat_minor": 0,
  "metadata": {
    "colab": {
      "name": "RE_LAB.ipynb",
      "provenance": [],
      "collapsed_sections": [],
      "authorship_tag": "ABX9TyMsypHGzGsPIbklP4VtaNGQ",
      "include_colab_link": true
    },
    "kernelspec": {
      "name": "python3",
      "display_name": "Python 3"
    },
    "language_info": {
      "name": "python"
    }
  },
  "cells": [
    {
      "cell_type": "markdown",
      "metadata": {
        "id": "view-in-github",
        "colab_type": "text"
      },
      "source": [
        "<a href=\"https://colab.research.google.com/github/hamishisham/CSE3rd-4LAB/blob/master/RE_LAB.ipynb\" target=\"_parent\"><img src=\"https://colab.research.google.com/assets/colab-badge.svg\" alt=\"Open In Colab\"/></a>"
      ]
    },
    {
      "cell_type": "code",
      "metadata": {
        "colab": {
          "base_uri": "https://localhost:8080/"
        },
        "id": "yBxMsgE0aAa8",
        "outputId": "39de23af-9e35-4a18-8624-aa75ee2b8455"
      },
      "source": [
        "import re\n",
        "import codecs\n",
        "result=[]\n",
        "pattern = '(\\d{1,3}\\.\\d{1,3}\\.\\d{1,3}\\.\\d{1,3})'\n",
        "for line in codecs.open(\"input.txt\"):\n",
        "  result.append(re.findall(pattern,line))\n",
        "\n",
        "print(result)"
      ],
      "execution_count": null,
      "outputs": [
        {
          "output_type": "stream",
          "text": [
            "[[], [], ['192.168.0.1'], ['110.234.52.124'], [], [], ['192.168.1.100'], ['185.117.159.255'], ['192.168.1.1']]\n"
          ],
          "name": "stdout"
        }
      ]
    },
    {
      "cell_type": "code",
      "metadata": {
        "id": "f5I9_j8h_B1E"
      },
      "source": [
        "with open(\"output.txt\", \"w\") as f:\n",
        "    for s in result:\n",
        "        f.write(str(s) +\"\\n\")"
      ],
      "execution_count": null,
      "outputs": []
    }
  ]
}